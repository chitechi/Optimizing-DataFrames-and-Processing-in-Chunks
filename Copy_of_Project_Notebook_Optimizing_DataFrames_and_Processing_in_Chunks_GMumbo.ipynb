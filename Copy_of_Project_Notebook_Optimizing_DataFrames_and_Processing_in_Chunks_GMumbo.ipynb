{
  "nbformat": 4,
  "nbformat_minor": 0,
  "metadata": {
    "colab": {
      "provenance": [],
      "collapsed_sections": [
        "DMJVaj_kxj42"
      ]
    },
    "kernelspec": {
      "name": "python3",
      "display_name": "Python 3"
    },
    "language_info": {
      "name": "python"
    }
  },
  "cells": [
    {
      "cell_type": "markdown",
      "metadata": {
        "id": "y7eHGTSKv8TW"
      },
      "source": [
        "# Project Notebook: Optimizing DataFrames and Processing in Chunks"
      ]
    },
    {
      "cell_type": "markdown",
      "metadata": {
        "id": "ZJ7UJlKnwJk3"
      },
      "source": [
        "## 1. Introduction "
      ]
    },
    {
      "cell_type": "markdown",
      "metadata": {
        "id": "UUyK3GcBv9mC"
      },
      "source": [
        "In this project, we'll practice working with chunked dataframes and optimizing a dataframe's memory usage. We'll be working with financial lending data from Lending Club, a marketplace for personal loans that matches borrowers with investors. You can read more about the marketplace on its website.\n",
        "\n",
        "The Lending Club's website lists approved loans. Qualified investors can view the borrower's credit score, the purpose of the loan, and other details in the loan applications. Once a lender is ready to back a loan, it selects the amount of money it wants to fund. When the loan amount the borrower requested is fully funded, the borrower receives the money, minus the origination fee that Lending Club charges.\n",
        "\n",
        "We'll be working with a dataset of loans approved from 2007-2011 (https://bit.ly/3H2XVgC). We've already removed the desc column for you to make our system run more quickly.\n",
        "\n",
        "If we read in the entire data set, it will consume about 67 megabytes of memory. Let's imagine that we only have 10 megabytes of memory available throughout this project, so you can practice the concepts you learned in the last two lessons.\n",
        "\n",
        "**Tasks**\n",
        "\n",
        "1. Read in the first five lines from `loans_2007.csv` (https://bit.ly/3H2XVgC) and look for any data quality issues.\n",
        "\n",
        "2. Read in the first 1000 rows from the data set, and calculate the total memory usage for these rows. Increase or decrease the number of rows to converge on a memory usage under five megabytes (to stay on the conservative side)."
      ]
    },
    {
      "cell_type": "code",
      "metadata": {
        "id": "Kc9NLSZ5vXPM",
        "colab": {
          "base_uri": "https://localhost:8080/"
        },
        "outputId": "161df904-e850-497c-95d7-4014a7a7fba3"
      },
      "source": [
        "# Importing pandas\n",
        "import pandas as pd\n",
        "pd.options.display.max_columns = 99\n",
        "\n",
        "# Your code goes here\n",
        "df_loans = pd.read_csv(\"loans_2007.csv\")\n",
        "df_loans.head()\n",
        "\n",
        "df_loans2 = pd.read_csv(\"loans_2007.csv\", nrows = 1000)\n",
        "print(\"usage(MB) for 1000 rows: \",df_loans2.memory_usage(deep=True).sum()/(1024**2))\n"
      ],
      "execution_count": 2,
      "outputs": [
        {
          "output_type": "stream",
          "name": "stdout",
          "text": [
            "usage(MB) for 1000 rows:  1.5273666381835938\n"
          ]
        },
        {
          "output_type": "stream",
          "name": "stderr",
          "text": [
            "/usr/local/lib/python3.8/dist-packages/IPython/core/interactiveshell.py:3326: DtypeWarning: Columns (0) have mixed types.Specify dtype option on import or set low_memory=False.\n",
            "  exec(code_obj, self.user_global_ns, self.user_ns)\n"
          ]
        }
      ]
    },
    {
      "cell_type": "code",
      "source": [
        "#Increase the number of rows\n",
        "df_loans = pd.read_csv(\"loans_2007.csv\", nrows = 2000)\n",
        "print(df_loans.memory_usage(deep=True).sum()/(1024**2), \"MB\")"
      ],
      "metadata": {
        "colab": {
          "base_uri": "https://localhost:8080/"
        },
        "id": "l4GtJWX8Beln",
        "outputId": "b0e3167a-9124-49a3-d8e1-7003b57e7ca5"
      },
      "execution_count": 3,
      "outputs": [
        {
          "output_type": "stream",
          "name": "stdout",
          "text": [
            "3.053553581237793 MB\n"
          ]
        }
      ]
    },
    {
      "cell_type": "code",
      "source": [
        "loan_iter = pd.read_csv(\"loans_2007.csv\" , chunksize =2000)\n",
        "for chunk in loan_iter:\n",
        "  print(chunk.memory_usage(deep=True).sum()/(1024**2), \"MB\")\n",
        "  "
      ],
      "metadata": {
        "colab": {
          "base_uri": "https://localhost:8080/"
        },
        "id": "UIf2G0wvCi-l",
        "outputId": "82450a9b-210b-4242-c2d3-2ec2a11498e5"
      },
      "execution_count": 4,
      "outputs": [
        {
          "output_type": "stream",
          "name": "stdout",
          "text": [
            "3.053553581237793 MB\n",
            "3.0518617630004883 MB\n",
            "3.0512466430664062 MB\n",
            "3.0520782470703125 MB\n",
            "3.053147315979004 MB\n",
            "3.0520505905151367 MB\n",
            "3.0506086349487305 MB\n",
            "3.0508031845092773 MB\n",
            "3.051485061645508 MB\n",
            "3.050662040710449 MB\n",
            "3.0520505905151367 MB\n",
            "3.0516185760498047 MB\n",
            "3.050469398498535 MB\n",
            "3.0517873764038086 MB\n",
            "3.050745964050293 MB\n",
            "3.0607357025146484 MB\n",
            "3.0548219680786133 MB\n",
            "3.0617876052856445 MB\n",
            "3.063817024230957 MB\n",
            "3.1727962493896484 MB\n",
            "3.1342315673828125 MB\n",
            "0.868586540222168 MB\n"
          ]
        }
      ]
    },
    {
      "cell_type": "markdown",
      "metadata": {
        "id": "StemrBe2wkMj"
      },
      "source": [
        "## 2. Exploring the Data in Chunks"
      ]
    },
    {
      "cell_type": "markdown",
      "metadata": {
        "id": "dm4p982Dwor5"
      },
      "source": [
        "Let's familiarize ourselves with the columns to see which ones we can optimize. In the first lesson, we explored column types by reading in the full dataframe. In this project, let's try to understand the column types better while using dataframe chunks.\n",
        "\n",
        "**Tasks**\n",
        "\n",
        "For each chunk:\n",
        "* How many columns have a numeric type? \n",
        "* How many have a string type?\n",
        "* How many unique values are there in each string column? How many of the string columns contain values that are less than 50% unique?\n",
        "* Which float columns have no missing values and could be candidates for conversion to the integer type?\n",
        "* Calculate the total memory usage across all of the chunks."
      ]
    },
    {
      "cell_type": "code",
      "metadata": {
        "id": "rjTUXAnJwzdx",
        "colab": {
          "base_uri": "https://localhost:8080/"
        },
        "outputId": "393829b7-2d78-4c5d-cc4c-0ceabd2e07c8"
      },
      "source": [
        "# Your code goes here\n",
        "loan_iter = pd.read_csv(\"loans_2007.csv\", chunksize = 2000)\n",
        "numeric=[]\n",
        "string=[]\n",
        "for chunk in loan_iter:\n",
        "  numeric.append(chunk.select_dtypes(include=\"number\").shape[1])\n",
        "  string.append(chunk.select_dtypes(include=\"object\").shape[1])\n",
        "\n",
        "print(f\"Columns with numeric types: \\n{numeric}\")\n",
        "print(\"\\nColumns with string types: \\n\", string)\n",
        "\n"
      ],
      "execution_count": 5,
      "outputs": [
        {
          "output_type": "stream",
          "name": "stdout",
          "text": [
            "Columns with numeric types: \n",
            "[31, 31, 31, 31, 31, 31, 31, 31, 31, 31, 31, 31, 31, 31, 31, 31, 31, 31, 31, 30, 31, 30]\n",
            "\n",
            "Columns with string types: \n",
            " [21, 21, 21, 21, 21, 21, 21, 21, 21, 21, 21, 21, 21, 21, 21, 21, 21, 21, 21, 22, 21, 22]\n"
          ]
        }
      ]
    },
    {
      "cell_type": "code",
      "source": [
        "object_columns = []\n",
        "loan_iter = pd.read_csv(\"loans_2007.csv\", chunksize = 2000)\n",
        "for chunk in loan_iter:\n",
        "  chunk_object_columns = chunk.select_dtypes(include=[\"object\"]).columns.tolist()\n",
        "  if len(object_columns) > 0:\n",
        "    similar = object_columns == chunk_object_columns\n",
        "    if not similar:\n",
        "      print(\"overall strin columns:\\n\", object_columns, \"\\n\")\n",
        "      print(\"chunk string columns:\\n\", chunk_object_columns, \"\\n\")\n",
        "    else:\n",
        "      object_columns = chunk_object_columns\n",
        "      "
      ],
      "metadata": {
        "id": "BhZVbWmmGXj8"
      },
      "execution_count": 6,
      "outputs": []
    },
    {
      "cell_type": "code",
      "source": [
        "from enum import unique\n",
        "#checking for strings that are less than 50%\n",
        "loan_iter = pd.read_csv(\"loans_2007.csv\", chunksize = 2000)\n",
        "\n",
        "percentage = []\n",
        "for chunk in loan_iter:\n",
        "  chunk[\"id\"] = pd.to_numeric(chunk[\"id\"], errors = \"coerce\")\n",
        "  chunk = chunk.dropna(axis = 0, subset = [\"id\"])\n",
        "  unique_string_columns = chunk.select_dtypes(include=[\"object\"]).nunique()\n",
        "  count_string_columns = chunk.select_dtypes(include=[\"object\"]).count()\n",
        "  percentage.append((100*unique_string_columns/count_string_columns))\n",
        "  unique_total = pd.concat(percentage)\n",
        "  unique_total = unique_total.groupby(unique_total.index).mean()\n",
        "  category_string_columns = list((unique_total[unique_total<50]).index)\n",
        "\n",
        "print(print(f\"\\npercentage of unique values is: \\n {unique_total}\"))\n"
      ],
      "metadata": {
        "colab": {
          "base_uri": "https://localhost:8080/"
        },
        "id": "RFmr5UMJJzYZ",
        "outputId": "af1dd530-6d06-4bed-a329-2bb8fcbbad40"
      },
      "execution_count": 7,
      "outputs": [
        {
          "output_type": "stream",
          "name": "stdout",
          "text": [
            "\n",
            "percentage of unique values is: \n",
            " addr_state              2.410776\n",
            "application_type        0.056209\n",
            "earliest_cr_line       18.636656\n",
            "emp_length              0.632663\n",
            "emp_title              94.211510\n",
            "grade                   0.393461\n",
            "home_ownership          0.193018\n",
            "initial_list_status     0.056209\n",
            "int_rate                3.586332\n",
            "issue_d                 0.337712\n",
            "last_credit_pull_d      4.069264\n",
            "last_pymnt_d            3.280709\n",
            "loan_status             0.194238\n",
            "purpose                 0.751169\n",
            "pymnt_plan              0.058481\n",
            "revol_util             44.077543\n",
            "sub_grade               1.937759\n",
            "term                    0.097119\n",
            "title                  66.508106\n",
            "verification_status     0.151666\n",
            "zip_code               25.880729\n",
            "dtype: float64\n",
            "None\n"
          ]
        }
      ]
    },
    {
      "cell_type": "code",
      "source": [
        "#Float columns with no missing values\n",
        "\n",
        "loan_iter = pd.read_csv(\"loans_2007.csv\", chunksize = 2000)\n",
        "float_count_null = []\n",
        "for chunk in loan_iter:\n",
        "  chunk[\"id\"] = pd.to_numeric(chunk[\"id\"], errors = \"coerce\")\n",
        "  chunk = chunk.dropna(axis=0, subset = [\"id\"])\n",
        "  float_columns_null = chunk.select_dtypes(exclude=[\"object\"]).isnull().sum()\n",
        "  float_count_null.append(float_columns_null)\n",
        "  total_float_null = pd.concat(float_count_null)\n",
        "  total_float_null = total_float_null.groupby(total_float_null.index).sum()\n",
        "  no_missing = set((total_float_null[total_float_null == 0]).index)\n",
        "  missing = set((total_float_null[total_float_null > 0]).index)\n",
        "\n",
        "  print(f\"float columns with missing values:  \\n{missing}\")\n",
        "  print(f\"\\nfloat columns with no missing values:  \\n{no_missing}\")\n",
        "  "
      ],
      "metadata": {
        "id": "yKR1J4G3IjyA",
        "colab": {
          "base_uri": "https://localhost:8080/"
        },
        "outputId": "56e0dd90-5647-4b38-e1f2-892e697ac1aa"
      },
      "execution_count": 8,
      "outputs": [
        {
          "output_type": "stream",
          "name": "stdout",
          "text": [
            "float columns with missing values:  \n",
            "set()\n",
            "\n",
            "float columns with no missing values:  \n",
            "{'total_acc', 'out_prncp', 'pub_rec_bankruptcies', 'delinq_2yrs', 'recoveries', 'total_pymnt_inv', 'total_rec_int', 'tax_liens', 'policy_code', 'acc_now_delinq', 'installment', 'dti', 'id', 'total_rec_late_fee', 'collection_recovery_fee', 'collections_12_mths_ex_med', 'funded_amnt_inv', 'annual_inc', 'open_acc', 'revol_bal', 'chargeoff_within_12_mths', 'total_pymnt', 'inq_last_6mths', 'loan_amnt', 'total_rec_prncp', 'funded_amnt', 'pub_rec', 'last_pymnt_amnt', 'member_id', 'out_prncp_inv', 'delinq_amnt'}\n",
            "float columns with missing values:  \n",
            "set()\n",
            "\n",
            "float columns with no missing values:  \n",
            "{'total_acc', 'out_prncp', 'pub_rec_bankruptcies', 'delinq_2yrs', 'recoveries', 'total_pymnt_inv', 'total_rec_int', 'tax_liens', 'policy_code', 'acc_now_delinq', 'installment', 'dti', 'id', 'total_rec_late_fee', 'collection_recovery_fee', 'collections_12_mths_ex_med', 'funded_amnt_inv', 'annual_inc', 'open_acc', 'revol_bal', 'chargeoff_within_12_mths', 'total_pymnt', 'inq_last_6mths', 'loan_amnt', 'total_rec_prncp', 'funded_amnt', 'pub_rec', 'last_pymnt_amnt', 'member_id', 'out_prncp_inv', 'delinq_amnt'}\n",
            "float columns with missing values:  \n",
            "set()\n",
            "\n",
            "float columns with no missing values:  \n",
            "{'total_acc', 'out_prncp', 'pub_rec_bankruptcies', 'delinq_2yrs', 'recoveries', 'total_pymnt_inv', 'total_rec_int', 'tax_liens', 'policy_code', 'acc_now_delinq', 'installment', 'dti', 'id', 'total_rec_late_fee', 'collection_recovery_fee', 'collections_12_mths_ex_med', 'funded_amnt_inv', 'annual_inc', 'open_acc', 'revol_bal', 'chargeoff_within_12_mths', 'total_pymnt', 'inq_last_6mths', 'loan_amnt', 'total_rec_prncp', 'funded_amnt', 'pub_rec', 'last_pymnt_amnt', 'member_id', 'out_prncp_inv', 'delinq_amnt'}\n",
            "float columns with missing values:  \n",
            "set()\n",
            "\n",
            "float columns with no missing values:  \n",
            "{'total_acc', 'out_prncp', 'pub_rec_bankruptcies', 'delinq_2yrs', 'recoveries', 'total_pymnt_inv', 'total_rec_int', 'tax_liens', 'policy_code', 'acc_now_delinq', 'installment', 'dti', 'id', 'total_rec_late_fee', 'collection_recovery_fee', 'collections_12_mths_ex_med', 'funded_amnt_inv', 'annual_inc', 'open_acc', 'revol_bal', 'chargeoff_within_12_mths', 'total_pymnt', 'inq_last_6mths', 'loan_amnt', 'total_rec_prncp', 'funded_amnt', 'pub_rec', 'last_pymnt_amnt', 'member_id', 'out_prncp_inv', 'delinq_amnt'}\n",
            "float columns with missing values:  \n",
            "set()\n",
            "\n",
            "float columns with no missing values:  \n",
            "{'total_acc', 'out_prncp', 'pub_rec_bankruptcies', 'delinq_2yrs', 'recoveries', 'total_pymnt_inv', 'total_rec_int', 'tax_liens', 'policy_code', 'acc_now_delinq', 'installment', 'dti', 'id', 'total_rec_late_fee', 'collection_recovery_fee', 'collections_12_mths_ex_med', 'funded_amnt_inv', 'annual_inc', 'open_acc', 'revol_bal', 'chargeoff_within_12_mths', 'total_pymnt', 'inq_last_6mths', 'loan_amnt', 'total_rec_prncp', 'funded_amnt', 'pub_rec', 'last_pymnt_amnt', 'member_id', 'out_prncp_inv', 'delinq_amnt'}\n",
            "float columns with missing values:  \n",
            "set()\n",
            "\n",
            "float columns with no missing values:  \n",
            "{'total_acc', 'out_prncp', 'pub_rec_bankruptcies', 'delinq_2yrs', 'recoveries', 'total_pymnt_inv', 'total_rec_int', 'tax_liens', 'policy_code', 'acc_now_delinq', 'installment', 'dti', 'id', 'total_rec_late_fee', 'collection_recovery_fee', 'collections_12_mths_ex_med', 'funded_amnt_inv', 'annual_inc', 'open_acc', 'revol_bal', 'chargeoff_within_12_mths', 'total_pymnt', 'inq_last_6mths', 'loan_amnt', 'total_rec_prncp', 'funded_amnt', 'pub_rec', 'last_pymnt_amnt', 'member_id', 'out_prncp_inv', 'delinq_amnt'}\n",
            "float columns with missing values:  \n",
            "set()\n",
            "\n",
            "float columns with no missing values:  \n",
            "{'total_acc', 'out_prncp', 'pub_rec_bankruptcies', 'delinq_2yrs', 'recoveries', 'total_pymnt_inv', 'total_rec_int', 'tax_liens', 'policy_code', 'acc_now_delinq', 'installment', 'dti', 'id', 'total_rec_late_fee', 'collection_recovery_fee', 'collections_12_mths_ex_med', 'funded_amnt_inv', 'annual_inc', 'open_acc', 'revol_bal', 'chargeoff_within_12_mths', 'total_pymnt', 'inq_last_6mths', 'loan_amnt', 'total_rec_prncp', 'funded_amnt', 'pub_rec', 'last_pymnt_amnt', 'member_id', 'out_prncp_inv', 'delinq_amnt'}\n",
            "float columns with missing values:  \n",
            "set()\n",
            "\n",
            "float columns with no missing values:  \n",
            "{'total_acc', 'out_prncp', 'pub_rec_bankruptcies', 'delinq_2yrs', 'recoveries', 'total_pymnt_inv', 'total_rec_int', 'tax_liens', 'policy_code', 'acc_now_delinq', 'installment', 'dti', 'id', 'total_rec_late_fee', 'collection_recovery_fee', 'collections_12_mths_ex_med', 'funded_amnt_inv', 'annual_inc', 'open_acc', 'revol_bal', 'chargeoff_within_12_mths', 'total_pymnt', 'inq_last_6mths', 'loan_amnt', 'total_rec_prncp', 'funded_amnt', 'pub_rec', 'last_pymnt_amnt', 'member_id', 'out_prncp_inv', 'delinq_amnt'}\n",
            "float columns with missing values:  \n",
            "set()\n",
            "\n",
            "float columns with no missing values:  \n",
            "{'total_acc', 'out_prncp', 'pub_rec_bankruptcies', 'delinq_2yrs', 'recoveries', 'total_pymnt_inv', 'total_rec_int', 'tax_liens', 'policy_code', 'acc_now_delinq', 'installment', 'dti', 'id', 'total_rec_late_fee', 'collection_recovery_fee', 'collections_12_mths_ex_med', 'funded_amnt_inv', 'annual_inc', 'open_acc', 'revol_bal', 'chargeoff_within_12_mths', 'total_pymnt', 'inq_last_6mths', 'loan_amnt', 'total_rec_prncp', 'funded_amnt', 'pub_rec', 'last_pymnt_amnt', 'member_id', 'out_prncp_inv', 'delinq_amnt'}\n",
            "float columns with missing values:  \n",
            "set()\n",
            "\n",
            "float columns with no missing values:  \n",
            "{'total_acc', 'out_prncp', 'pub_rec_bankruptcies', 'delinq_2yrs', 'recoveries', 'total_pymnt_inv', 'total_rec_int', 'tax_liens', 'policy_code', 'acc_now_delinq', 'installment', 'dti', 'id', 'total_rec_late_fee', 'collection_recovery_fee', 'collections_12_mths_ex_med', 'funded_amnt_inv', 'annual_inc', 'open_acc', 'revol_bal', 'chargeoff_within_12_mths', 'total_pymnt', 'inq_last_6mths', 'loan_amnt', 'total_rec_prncp', 'funded_amnt', 'pub_rec', 'last_pymnt_amnt', 'member_id', 'out_prncp_inv', 'delinq_amnt'}\n",
            "float columns with missing values:  \n",
            "set()\n",
            "\n",
            "float columns with no missing values:  \n",
            "{'total_acc', 'out_prncp', 'pub_rec_bankruptcies', 'delinq_2yrs', 'recoveries', 'total_pymnt_inv', 'total_rec_int', 'tax_liens', 'policy_code', 'acc_now_delinq', 'installment', 'dti', 'id', 'total_rec_late_fee', 'collection_recovery_fee', 'collections_12_mths_ex_med', 'funded_amnt_inv', 'annual_inc', 'open_acc', 'revol_bal', 'chargeoff_within_12_mths', 'total_pymnt', 'inq_last_6mths', 'loan_amnt', 'total_rec_prncp', 'funded_amnt', 'pub_rec', 'last_pymnt_amnt', 'member_id', 'out_prncp_inv', 'delinq_amnt'}\n",
            "float columns with missing values:  \n",
            "set()\n",
            "\n",
            "float columns with no missing values:  \n",
            "{'total_acc', 'out_prncp', 'pub_rec_bankruptcies', 'delinq_2yrs', 'recoveries', 'total_pymnt_inv', 'total_rec_int', 'tax_liens', 'policy_code', 'acc_now_delinq', 'installment', 'dti', 'id', 'total_rec_late_fee', 'collection_recovery_fee', 'collections_12_mths_ex_med', 'funded_amnt_inv', 'annual_inc', 'open_acc', 'revol_bal', 'chargeoff_within_12_mths', 'total_pymnt', 'inq_last_6mths', 'loan_amnt', 'total_rec_prncp', 'funded_amnt', 'pub_rec', 'last_pymnt_amnt', 'member_id', 'out_prncp_inv', 'delinq_amnt'}\n",
            "float columns with missing values:  \n",
            "set()\n",
            "\n",
            "float columns with no missing values:  \n",
            "{'total_acc', 'out_prncp', 'pub_rec_bankruptcies', 'delinq_2yrs', 'recoveries', 'total_pymnt_inv', 'total_rec_int', 'tax_liens', 'policy_code', 'acc_now_delinq', 'installment', 'dti', 'id', 'total_rec_late_fee', 'collection_recovery_fee', 'collections_12_mths_ex_med', 'funded_amnt_inv', 'annual_inc', 'open_acc', 'revol_bal', 'chargeoff_within_12_mths', 'total_pymnt', 'inq_last_6mths', 'loan_amnt', 'total_rec_prncp', 'funded_amnt', 'pub_rec', 'last_pymnt_amnt', 'member_id', 'out_prncp_inv', 'delinq_amnt'}\n",
            "float columns with missing values:  \n",
            "set()\n",
            "\n",
            "float columns with no missing values:  \n",
            "{'total_acc', 'out_prncp', 'pub_rec_bankruptcies', 'delinq_2yrs', 'recoveries', 'total_pymnt_inv', 'total_rec_int', 'tax_liens', 'policy_code', 'acc_now_delinq', 'installment', 'dti', 'id', 'total_rec_late_fee', 'collection_recovery_fee', 'collections_12_mths_ex_med', 'funded_amnt_inv', 'annual_inc', 'open_acc', 'revol_bal', 'chargeoff_within_12_mths', 'total_pymnt', 'inq_last_6mths', 'loan_amnt', 'total_rec_prncp', 'funded_amnt', 'pub_rec', 'last_pymnt_amnt', 'member_id', 'out_prncp_inv', 'delinq_amnt'}\n",
            "float columns with missing values:  \n",
            "set()\n",
            "\n",
            "float columns with no missing values:  \n",
            "{'total_acc', 'out_prncp', 'pub_rec_bankruptcies', 'delinq_2yrs', 'recoveries', 'total_pymnt_inv', 'total_rec_int', 'tax_liens', 'policy_code', 'acc_now_delinq', 'installment', 'dti', 'id', 'total_rec_late_fee', 'collection_recovery_fee', 'collections_12_mths_ex_med', 'funded_amnt_inv', 'annual_inc', 'open_acc', 'revol_bal', 'chargeoff_within_12_mths', 'total_pymnt', 'inq_last_6mths', 'loan_amnt', 'total_rec_prncp', 'funded_amnt', 'pub_rec', 'last_pymnt_amnt', 'member_id', 'out_prncp_inv', 'delinq_amnt'}\n",
            "float columns with missing values:  \n",
            "set()\n",
            "\n",
            "float columns with no missing values:  \n",
            "{'total_acc', 'out_prncp', 'pub_rec_bankruptcies', 'delinq_2yrs', 'recoveries', 'total_pymnt_inv', 'total_rec_int', 'tax_liens', 'policy_code', 'acc_now_delinq', 'installment', 'dti', 'id', 'total_rec_late_fee', 'collection_recovery_fee', 'collections_12_mths_ex_med', 'funded_amnt_inv', 'annual_inc', 'open_acc', 'revol_bal', 'chargeoff_within_12_mths', 'total_pymnt', 'inq_last_6mths', 'loan_amnt', 'total_rec_prncp', 'funded_amnt', 'pub_rec', 'last_pymnt_amnt', 'member_id', 'out_prncp_inv', 'delinq_amnt'}\n",
            "float columns with missing values:  \n",
            "set()\n",
            "\n",
            "float columns with no missing values:  \n",
            "{'total_acc', 'out_prncp', 'pub_rec_bankruptcies', 'delinq_2yrs', 'recoveries', 'total_pymnt_inv', 'total_rec_int', 'tax_liens', 'policy_code', 'acc_now_delinq', 'installment', 'dti', 'id', 'total_rec_late_fee', 'collection_recovery_fee', 'collections_12_mths_ex_med', 'funded_amnt_inv', 'annual_inc', 'open_acc', 'revol_bal', 'chargeoff_within_12_mths', 'total_pymnt', 'inq_last_6mths', 'loan_amnt', 'total_rec_prncp', 'funded_amnt', 'pub_rec', 'last_pymnt_amnt', 'member_id', 'out_prncp_inv', 'delinq_amnt'}\n",
            "float columns with missing values:  \n",
            "{'pub_rec_bankruptcies'}\n",
            "\n",
            "float columns with no missing values:  \n",
            "{'total_acc', 'out_prncp', 'delinq_2yrs', 'recoveries', 'total_pymnt_inv', 'total_rec_int', 'tax_liens', 'policy_code', 'acc_now_delinq', 'installment', 'dti', 'id', 'total_rec_late_fee', 'collection_recovery_fee', 'collections_12_mths_ex_med', 'funded_amnt_inv', 'annual_inc', 'open_acc', 'revol_bal', 'chargeoff_within_12_mths', 'total_pymnt', 'inq_last_6mths', 'loan_amnt', 'total_rec_prncp', 'funded_amnt', 'pub_rec', 'last_pymnt_amnt', 'member_id', 'out_prncp_inv', 'delinq_amnt'}\n",
            "float columns with missing values:  \n",
            "{'pub_rec_bankruptcies'}\n",
            "\n",
            "float columns with no missing values:  \n",
            "{'total_acc', 'out_prncp', 'delinq_2yrs', 'recoveries', 'total_pymnt_inv', 'total_rec_int', 'tax_liens', 'policy_code', 'acc_now_delinq', 'installment', 'dti', 'id', 'total_rec_late_fee', 'collection_recovery_fee', 'collections_12_mths_ex_med', 'funded_amnt_inv', 'annual_inc', 'open_acc', 'revol_bal', 'chargeoff_within_12_mths', 'total_pymnt', 'inq_last_6mths', 'loan_amnt', 'total_rec_prncp', 'funded_amnt', 'pub_rec', 'last_pymnt_amnt', 'member_id', 'out_prncp_inv', 'delinq_amnt'}\n",
            "float columns with missing values:  \n",
            "{'collections_12_mths_ex_med', 'pub_rec_bankruptcies', 'chargeoff_within_12_mths', 'tax_liens'}\n",
            "\n",
            "float columns with no missing values:  \n",
            "{'total_acc', 'out_prncp', 'delinq_2yrs', 'recoveries', 'total_pymnt_inv', 'total_rec_int', 'policy_code', 'acc_now_delinq', 'installment', 'dti', 'id', 'total_rec_late_fee', 'collection_recovery_fee', 'funded_amnt_inv', 'annual_inc', 'open_acc', 'revol_bal', 'total_pymnt', 'inq_last_6mths', 'loan_amnt', 'total_rec_prncp', 'funded_amnt', 'pub_rec', 'last_pymnt_amnt', 'member_id', 'out_prncp_inv', 'delinq_amnt'}\n",
            "float columns with missing values:  \n",
            "{'collections_12_mths_ex_med', 'pub_rec_bankruptcies', 'chargeoff_within_12_mths', 'tax_liens'}\n",
            "\n",
            "float columns with no missing values:  \n",
            "{'total_acc', 'out_prncp', 'delinq_2yrs', 'recoveries', 'total_pymnt_inv', 'total_rec_int', 'policy_code', 'acc_now_delinq', 'installment', 'dti', 'id', 'total_rec_late_fee', 'collection_recovery_fee', 'funded_amnt_inv', 'annual_inc', 'open_acc', 'revol_bal', 'total_pymnt', 'inq_last_6mths', 'loan_amnt', 'total_rec_prncp', 'funded_amnt', 'pub_rec', 'last_pymnt_amnt', 'member_id', 'out_prncp_inv', 'delinq_amnt'}\n",
            "float columns with missing values:  \n",
            "{'collections_12_mths_ex_med', 'total_acc', 'acc_now_delinq', 'pub_rec', 'annual_inc', 'open_acc', 'pub_rec_bankruptcies', 'chargeoff_within_12_mths', 'delinq_2yrs', 'inq_last_6mths', 'delinq_amnt', 'tax_liens'}\n",
            "\n",
            "float columns with no missing values:  \n",
            "{'out_prncp', 'recoveries', 'total_pymnt_inv', 'total_rec_int', 'policy_code', 'installment', 'dti', 'id', 'total_rec_late_fee', 'collection_recovery_fee', 'funded_amnt_inv', 'revol_bal', 'total_pymnt', 'loan_amnt', 'total_rec_prncp', 'funded_amnt', 'last_pymnt_amnt', 'member_id', 'out_prncp_inv'}\n"
          ]
        }
      ]
    },
    {
      "cell_type": "code",
      "source": [
        "#Total memroy usage\n",
        "\n",
        "loan_iter = pd.read_csv(\"loans_2007.csv\", chunksize = 2000)\n",
        "initial_memory = []\n",
        "for chunk in loan_iter:\n",
        "  initial_memory.append(chunk.memory_usage(deep=True).sum()/(1024**2))\n",
        "\n",
        "print(\"total memory usage: {:.4f} MB\" . format(sum(initial_memory)))\n",
        "\n"
      ],
      "metadata": {
        "colab": {
          "base_uri": "https://localhost:8080/"
        },
        "id": "1q2rcUMM2uLz",
        "outputId": "bfe700db-bc70-4984-cfd5-7ac76fcc04a0"
      },
      "execution_count": 9,
      "outputs": [
        {
          "output_type": "stream",
          "name": "stdout",
          "text": [
            "total memory usage: 65.1909 MB\n"
          ]
        }
      ]
    },
    {
      "cell_type": "markdown",
      "metadata": {
        "id": "8BtAVP8fw3OH"
      },
      "source": [
        "## 3. Optimizing String Columns"
      ]
    },
    {
      "cell_type": "markdown",
      "metadata": {
        "id": "ZkWArHAhw_bw"
      },
      "source": [
        "We can achieve the greatest memory improvements by converting the string columns to a numeric type. Let's convert all of the columns where the values are less than 50% unique to the category type, and the columns that contain numeric values to the `float` type.\n",
        "\n",
        "While working with dataframe chunks:\n",
        "* Determine which string columns you can convert to a numeric type if you clean them. For example, the `int_rate` column is only a string because of the % sign at the end.\n",
        "* Determine which columns have a few unique values and convert them to the category type. For example, you may want to convert the grade and `sub_grade` columns.\n",
        "Based on your conclusions, perform the necessary type changes across all chunks. * Calculate the total memory footprint, and compare it with the previous one."
      ]
    },
    {
      "cell_type": "code",
      "metadata": {
        "id": "FH0tcQlpxG9s",
        "colab": {
          "base_uri": "https://localhost:8080/"
        },
        "outputId": "5929a154-ed8e-40ce-f210-66e4ba87c151"
      },
      "source": [
        "# Your code goes here\n",
        "#conversion of object columns\n",
        "convert_columns_dtypes = {\"sub_grade\":\"category\", \"home_ownership\":\"category\", \"verification_status\":\"category\", \"purpose\":\"category\"}\n",
        "\n",
        "loan_iter = pd.read_csv(\"loans_2007.csv\", chunksize = 2000, dtype = convert_columns_dtypes, parse_dates = [\"issue_d\", \"earliest_cr_line\", \"last_pymnt_d\", \"last_credit_pull_d\"])\n",
        "total_memory=[]\n",
        "for chunk in loan_iter:\n",
        "  term_cleaned=chunk[\"term\"].str.lstrip(\" \").str.rstrip(\"months\")\n",
        "  int_rate_cleaned=chunk[\"int_rate\"].str.rstrip(\"%\")\n",
        "  revol_cleaned=chunk[\"revol_util\"].str.rstrip(\"%\")\n",
        "  chunk[\"term\"]=pd.to_numeric(term_cleaned)\n",
        "  chunk[\"revol_util\"]=pd.to_numeric(revol_cleaned)\n",
        "  chunk[\"int_rate\"]=pd.to_numeric(int_rate_cleaned)\n",
        "  total_memory.append(chunk.memory_usage(deep=True).sum()/(1024**2))\n",
        "\n",
        "print(\"\\nTotal memory usage with string optimisation: {:.2f} MB\" . format(sum(total_memory)))\n",
        "\n"
      ],
      "execution_count": 12,
      "outputs": [
        {
          "output_type": "stream",
          "name": "stdout",
          "text": [
            "\n",
            "Total memory usage with string optimisation: 38.80 MB\n"
          ]
        }
      ]
    },
    {
      "cell_type": "markdown",
      "source": [
        "Obervation:\n",
        "Memory usage from 65.1909MB to 38.80MB"
      ],
      "metadata": {
        "id": "kNu9TYSM99rS"
      }
    },
    {
      "cell_type": "markdown",
      "metadata": {
        "id": "22oYzgXnxIcV"
      },
      "source": [
        "## 4. Optimizing Numeric Columns"
      ]
    },
    {
      "cell_type": "markdown",
      "metadata": {
        "id": "bv5C20YrxPID"
      },
      "source": [
        "It looks like we were able to realize some powerful memory savings by converting to the category type and converting string columns to numeric ones.\n",
        "\n",
        "Now let's optimize the numeric columns using the `pandas.to_numeric()` function.\n",
        "\n",
        "**Tasks**\n",
        "\n",
        "While working with dataframe chunks:\n",
        "* Identify float columns that contain missing values, and that we can convert to a more space efficient subtype.\n",
        "* Identify float columns that don't contain any missing values, and that we can convert to the integer type because they represent whole numbers.\n",
        "* Based on your conclusions, perform the necessary type changes across all chunks.\n",
        "* Calculate the total memory footprint and compare it with the previous one.\n",
        "\n",
        "\n"
      ]
    },
    {
      "cell_type": "code",
      "metadata": {
        "id": "2S9KR57LxQ9d",
        "colab": {
          "base_uri": "https://localhost:8080/"
        },
        "outputId": "dbd1e1df-fa36-439c-c189-b5f2a2fc68e0"
      },
      "source": [
        "# Your code goes here\n",
        "\n",
        "loan_iter = pd.read_csv(\"loans_2007.csv\", chunksize = 2000, dtype = convert_columns_dtypes, parse_dates = [\"issue_d\", \"earliest_cr_line\", \"last_pymnt_d\", \"last_credit_pull_d\"])\n",
        "import numpy as np\n",
        "def change_to_int(df, column_name):\n",
        "  max_column=df[column_name].max()\n",
        "  min_column=df[column_name].min()\n",
        "  for dtype_name in [\"int8\", \"int16\", \"int32\", \"int64\"]:\n",
        "    if max_column < np.iinfo(dtype_name).max and min_column > np.iinfo(dtype_name).min:\n",
        "      df[column_name] = df[column_name].astype(dtype_name)\n",
        "      break\n",
        "\n",
        "total_memory = []\n",
        "for chunk in loan_iter:\n",
        "  chunk[\"id\"] = pd.to_numeric(chunk[\"id\"], errors = \"coerce\")\n",
        "  chunk = chunk.dropna(axis=0, subset = [\"id\"])\n",
        "  term_cleaned=chunk[\"term\"].str.lstrip(\" \").str.rstrip(\" months\")\n",
        "  int_rate_cleaned=chunk[\"int_rate\"].str.rstrip(\"%\")\n",
        "  revol_cleaned=chunk[\"revol_util\"].str.rstrip(\"%\")\n",
        "  chunk[\"term\"]=pd.to_numeric(term_cleaned)\n",
        "  chunk[\"revol_util\"]=pd.to_numeric(revol_cleaned)\n",
        "  chunk[\"int_rate\"]=pd.to_numeric(int_rate_cleaned)\n",
        "  float_columns=chunk.select_dtypes(include=[\"float\"])\n",
        "  float_columns=float_columns.dropna()\n",
        "  for columns in float_columns.columns:\n",
        "    if columns in missing:\n",
        "      chunk[columns]=pd.to_numeric(chunk[columns], downcast=\"float\")\n",
        "    elif columns in no_missing:\n",
        "      change_to_int(chunk, columns)\n",
        "  total_memory.append(chunk.memory_usage(deep=True).sum()/(1024**2))\n",
        "\n",
        "print(\"\\nTotal memory usage: {:.2f} MB\" . format(sum(total_memory)))\n",
        "print(\"\\nPercentage memory savings: {:.2f} %\" .format(100*(sum(initial_memory) - sum(total_memory))/sum(initial_memory)))\n",
        "print(f\"\\n {chunk.dtypes}\")\n",
        "\n"
      ],
      "execution_count": 13,
      "outputs": [
        {
          "output_type": "stream",
          "name": "stdout",
          "text": [
            "\n",
            "Total memory usage: 33.00 MB\n",
            "\n",
            "Percentage memory savings: 49.38 %\n",
            "\n",
            " id                                     int32\n",
            "member_id                              int32\n",
            "loan_amnt                              int16\n",
            "funded_amnt                            int16\n",
            "funded_amnt_inv                        int16\n",
            "term                                   int64\n",
            "int_rate                             float64\n",
            "installment                            int16\n",
            "grade                                 object\n",
            "sub_grade                           category\n",
            "emp_title                             object\n",
            "emp_length                            object\n",
            "home_ownership                      category\n",
            "annual_inc                           float32\n",
            "verification_status                 category\n",
            "issue_d                       datetime64[ns]\n",
            "loan_status                           object\n",
            "pymnt_plan                            object\n",
            "purpose                             category\n",
            "title                                 object\n",
            "zip_code                              object\n",
            "addr_state                            object\n",
            "dti                                     int8\n",
            "delinq_2yrs                          float32\n",
            "earliest_cr_line              datetime64[ns]\n",
            "inq_last_6mths                       float32\n",
            "open_acc                             float32\n",
            "pub_rec                              float32\n",
            "revol_bal                              int32\n",
            "revol_util                           float64\n",
            "total_acc                            float32\n",
            "initial_list_status                   object\n",
            "out_prncp                               int8\n",
            "out_prncp_inv                           int8\n",
            "total_pymnt                            int32\n",
            "total_pymnt_inv                        int16\n",
            "total_rec_prncp                        int16\n",
            "total_rec_int                          int16\n",
            "total_rec_late_fee                      int8\n",
            "recoveries                             int16\n",
            "collection_recovery_fee                int16\n",
            "last_pymnt_d                  datetime64[ns]\n",
            "last_pymnt_amnt                        int16\n",
            "last_credit_pull_d            datetime64[ns]\n",
            "collections_12_mths_ex_med           float32\n",
            "policy_code                             int8\n",
            "application_type                      object\n",
            "acc_now_delinq                       float32\n",
            "chargeoff_within_12_mths             float32\n",
            "delinq_amnt                          float32\n",
            "pub_rec_bankruptcies                 float32\n",
            "tax_liens                            float32\n",
            "dtype: object\n"
          ]
        }
      ]
    },
    {
      "cell_type": "markdown",
      "source": [
        "Observation and Conclusion:\n",
        "Total memory usage = 33.00MB.\n",
        "Percentage memory savings = 49.38%\n",
        "\n"
      ],
      "metadata": {
        "id": "ShrywpBpsHLm"
      }
    },
    {
      "cell_type": "markdown",
      "metadata": {
        "id": "DMJVaj_kxj42"
      },
      "source": [
        "## Next Steps"
      ]
    },
    {
      "cell_type": "markdown",
      "metadata": {
        "id": "H0RL3BzexlkW"
      },
      "source": [
        "We've practiced optimizing a dataframe's memory footprint and working with dataframe chunks. Here's an idea for some next steps:\n",
        "\n",
        "Create a function that automates as much of the work you just did as possible, so that you could use it on other Lending Club data sets. This function should:\n",
        "\n",
        "* Determine the optimal chunk size based on the memory constraints you provide.\n",
        "\n",
        "* Determine which string columns can be converted to numeric ones by removing the `%` character.\n",
        "\n",
        "* Determine which numeric columns can be converted to more space efficient representations.\n"
      ]
    },
    {
      "cell_type": "code",
      "metadata": {
        "id": "1hvuUNzPx1zy"
      },
      "source": [
        "# Your code goes here"
      ],
      "execution_count": null,
      "outputs": []
    }
  ]
}